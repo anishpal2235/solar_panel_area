{
 "cells": [
  {
   "cell_type": "markdown",
   "metadata": {},
   "source": [
    "**Solar Panel Object Detection Project**"
   ]
  },
  {
   "cell_type": "markdown",
   "metadata": {},
   "source": [
    "1. **Data Exploration and Understanding**  \n",
    "    - Counting total instances of solar panels  \n",
    "    - Value counts of labels per image  \n",
    "    - Computing area (in m²) statistics and plotting histogram  \n",
    " \n",
    " 2. **Implementing the Fundamental Functions**  \n",
    "    - IoU computation using the `shapely` library  \n",
    "    - Average Precision (AP) computation using three different methods:\n",
    "         - Pascal VOC 11-point interpolation  \n",
    "         - COCO 101-point interpolation  \n",
    "         - Area under the Precision-Recall curve  \n",
    "    - Generating random images and boxes to compare AP@50 using these methods  \n",
    " \n",
    " 3. **Model Building and Evaluation**  \n",
    "    - Splitting data (80-20 train-test with 10% of training as validation)  \n",
    "    - (Placeholder) Training a YOLO model from Ultralytics  \n",
    "    - Visualizing predictions vs. ground truth on sample images  \n",
    "    - Computing mAP50 using the `supervision` library and comparing with our implementation  \n",
    "    - Creating a table of Precision, Recall, and F1-scores across various IoU and confidence thresholds"
   ]
  },
  {
   "cell_type": "code",
   "execution_count": 2,
   "metadata": {
    "jupyter": {
     "is_executing": true
    }
   },
   "outputs": [],
   "source": [
    "\n",
    "import os\n",
    "import json\n",
    "import random\n",
    "import numpy as np\n",
    "import matplotlib.pyplot as plt\n",
    "from collections import defaultdict\n",
    "import pandas as pd\n",
    "import cv2\n",
    "\n",
    "from shapely.geometry import box as shapely_box\n",
    "\n",
    "import supervision as sv  \n",
    "from ultralytics import YOLO  "
   ]
  },
  {
   "cell_type": "markdown",
   "metadata": {},
   "source": [
    "**1. Calculation of No. of Instances in the Dataset and show the value counts of labels per image.**"
   ]
  },
  {
   "cell_type": "code",
   "execution_count": 3,
   "metadata": {},
   "outputs": [],
   "source": [
    "CHIP_SIZE_NATIVE = 416\n",
    "CHIP_SIZE_HD = 832"
   ]
  },
  {
   "cell_type": "code",
   "execution_count": 4,
   "metadata": {},
   "outputs": [],
   "source": [
    "LABELS_NATIVE_DIR = r'C:\\Users\\Admin\\OneDrive - ruggedmonitoring.com\\Desktop\\GAN\\labels-20250212T103318Z-001\\labels\\labels_native'\n",
    "LABELS_HD_DIR = r'C:\\Users\\Admin\\OneDrive - ruggedmonitoring.com\\Desktop\\GAN\\labels-20250212T103318Z-001\\labels\\labels_hd'\n",
    "IMAGES_DIR = r'C:\\Users\\Admin\\OneDrive - ruggedmonitoring.com\\Desktop\\GAN\\image_chips_native-20250212T103727Z-001\\image_chips_native'"
   ]
  },
  {
   "cell_type": "code",
   "execution_count": 5,
   "metadata": {},
   "outputs": [],
   "source": [
    "geotransforms = {\n",
    "    1: (307670.04, 0.31, 0.0, 5434427.100000001, 0.0, -0.31),\n",
    "    2: (312749.08, 0.31, 0.0, 5403952.860000001, 0.0, -0.31),\n",
    "    3: (312749.08, 0.31, 0.0, 5363320.540000001, 0.0, -0.31)\n",
    "}"
   ]
  },
  {
   "cell_type": "code",
   "execution_count": 6,
   "metadata": {},
   "outputs": [
    {
     "name": "stdout",
     "output_type": "stream",
     "text": [
      "Total solar panel instances (native): 29625\n",
      "\n",
      "Value counts (native labels):\n",
      "81 images have 1 label(s)\n",
      "167 images have 2 label(s)\n",
      "221 images have 3 label(s)\n",
      "218 images have 4 label(s)\n",
      "217 images have 5 label(s)\n",
      "189 images have 6 label(s)\n",
      "170 images have 7 label(s)\n",
      "184 images have 8 label(s)\n",
      "169 images have 9 label(s)\n",
      "121 images have 10 label(s)\n",
      "97 images have 11 label(s)\n",
      "84 images have 12 label(s)\n",
      "69 images have 13 label(s)\n",
      "49 images have 14 label(s)\n",
      "46 images have 15 label(s)\n",
      "41 images have 16 label(s)\n",
      "36 images have 17 label(s)\n",
      "25 images have 18 label(s)\n",
      "29 images have 19 label(s)\n",
      "14 images have 20 label(s)\n",
      "4 images have 21 label(s)\n",
      "1 images have 22 label(s)\n",
      "4 images have 23 label(s)\n",
      "2 images have 24 label(s)\n",
      "4 images have 25 label(s)\n",
      "3 images have 26 label(s)\n",
      "5 images have 27 label(s)\n",
      "5 images have 28 label(s)\n",
      "15 images have 29 label(s)\n",
      "20 images have 30 label(s)\n",
      "8 images have 31 label(s)\n",
      "7 images have 32 label(s)\n",
      "13 images have 33 label(s)\n",
      "19 images have 34 label(s)\n",
      "10 images have 35 label(s)\n",
      "6 images have 36 label(s)\n",
      "17 images have 37 label(s)\n",
      "13 images have 38 label(s)\n",
      "6 images have 39 label(s)\n",
      "9 images have 40 label(s)\n",
      "10 images have 41 label(s)\n",
      "12 images have 42 label(s)\n",
      "11 images have 43 label(s)\n",
      "4 images have 44 label(s)\n",
      "2 images have 45 label(s)\n",
      "5 images have 46 label(s)\n",
      "9 images have 47 label(s)\n",
      "3 images have 48 label(s)\n",
      "5 images have 49 label(s)\n",
      "6 images have 50 label(s)\n",
      "9 images have 51 label(s)\n",
      "16 images have 52 label(s)\n",
      "4 images have 53 label(s)\n",
      "6 images have 54 label(s)\n",
      "1 images have 55 label(s)\n",
      "1 images have 56 label(s)\n",
      "3 images have 58 label(s)\n",
      "2 images have 59 label(s)\n",
      "2 images have 60 label(s)\n",
      "1 images have 61 label(s)\n",
      "6 images have 62 label(s)\n",
      "3 images have 63 label(s)\n",
      "1 images have 64 label(s)\n",
      "3 images have 65 label(s)\n",
      "4 images have 66 label(s)\n",
      "1 images have 67 label(s)\n",
      "1 images have 71 label(s)\n",
      "1 images have 72 label(s)\n",
      "1 images have 73 label(s)\n",
      "5 images have 74 label(s)\n",
      "1 images have 75 label(s)\n",
      "2 images have 76 label(s)\n",
      "2 images have 77 label(s)\n",
      "1 images have 78 label(s)\n"
     ]
    }
   ],
   "source": [
    "def load_labels_from_folder(labels_folder, chip_size=CHIP_SIZE_NATIVE):\n",
    "    \"\"\"\n",
    "    Loads label files from a given folder.\n",
    "    Each file is assumed to correspond to one image chip.\n",
    "    Returns:\n",
    "      - total_instances: Total number of objects.\n",
    "      - image_label_counts: A dict mapping image (file) name to number of labels.\n",
    "      - annotations: List of annotations as dicts containing file, category, and normalized values.\n",
    "    \"\"\"\n",
    "    total_instances = 0\n",
    "    image_label_counts = {}\n",
    "    annotations = []\n",
    "    \n",
    "    label_files = [f for f in os.listdir(labels_folder) if f.endswith('.txt')]\n",
    "    \n",
    "    for fname in label_files:\n",
    "        fpath = os.path.join(labels_folder, fname)\n",
    "        with open(fpath, 'r') as f:\n",
    "            lines = f.readlines()\n",
    "        count = len(lines)\n",
    "        image_label_counts[fname] = count\n",
    "        total_instances += count\n",
    "        \n",
    "        for line in lines:\n",
    "            parts = line.strip().split()\n",
    "            if len(parts) != 5:\n",
    "                continue  # skip malformed lines\n",
    "            category, x_center, y_center, x_width, y_width = map(float, parts)\n",
    "            annotations.append({\n",
    "                'file': fname,\n",
    "                'category': int(category),\n",
    "                'x_center': x_center,\n",
    "                'y_center': y_center,\n",
    "                'x_width': x_width,\n",
    "                'y_width': y_width,\n",
    "                'chip_size': chip_size\n",
    "            })\n",
    "    \n",
    "    return total_instances, image_label_counts, annotations\n",
    "\n",
    "# Load native labels\n",
    "total_instances_native, image_label_counts_native, annotations_native = load_labels_from_folder(LABELS_NATIVE_DIR, CHIP_SIZE_NATIVE)\n",
    "print(\"Total solar panel instances (native):\", total_instances_native)\n",
    "\n",
    "# Compute value counts: e.g., how many images have 0 labels, 1 label, etc.\n",
    "value_counts = defaultdict(int)\n",
    "for count in image_label_counts_native.values():\n",
    "    value_counts[count] += 1\n",
    "\n",
    "print(\"\\nValue counts (native labels):\")\n",
    "for label_count in sorted(value_counts.keys()):\n",
    "    print(f\"{value_counts[label_count]} images have {label_count} label(s)\")"
   ]
  },
  {
   "cell_type": "code",
   "execution_count": 7,
   "metadata": {},
   "outputs": [
    {
     "name": "stdout",
     "output_type": "stream",
     "text": [
      "Total solar panel instances (hd): 29880\n",
      "\n",
      "Value counts (hd labels):\n",
      "82 images have 1 label(s)\n",
      "170 images have 2 label(s)\n",
      "202 images have 3 label(s)\n",
      "229 images have 4 label(s)\n",
      "219 images have 5 label(s)\n",
      "202 images have 6 label(s)\n",
      "171 images have 7 label(s)\n",
      "164 images have 8 label(s)\n",
      "175 images have 9 label(s)\n",
      "132 images have 10 label(s)\n",
      "97 images have 11 label(s)\n",
      "77 images have 12 label(s)\n",
      "73 images have 13 label(s)\n",
      "53 images have 14 label(s)\n",
      "42 images have 15 label(s)\n",
      "37 images have 16 label(s)\n",
      "32 images have 17 label(s)\n",
      "30 images have 18 label(s)\n",
      "29 images have 19 label(s)\n",
      "13 images have 20 label(s)\n",
      "6 images have 21 label(s)\n",
      "4 images have 22 label(s)\n",
      "4 images have 23 label(s)\n",
      "4 images have 24 label(s)\n",
      "1 images have 25 label(s)\n",
      "7 images have 26 label(s)\n",
      "4 images have 27 label(s)\n",
      "4 images have 28 label(s)\n",
      "21 images have 29 label(s)\n",
      "9 images have 30 label(s)\n",
      "7 images have 31 label(s)\n",
      "6 images have 32 label(s)\n",
      "8 images have 33 label(s)\n",
      "20 images have 34 label(s)\n",
      "10 images have 35 label(s)\n",
      "14 images have 36 label(s)\n",
      "15 images have 37 label(s)\n",
      "19 images have 38 label(s)\n",
      "12 images have 39 label(s)\n",
      "10 images have 40 label(s)\n",
      "8 images have 41 label(s)\n",
      "9 images have 42 label(s)\n",
      "9 images have 43 label(s)\n",
      "5 images have 44 label(s)\n",
      "4 images have 45 label(s)\n",
      "7 images have 46 label(s)\n",
      "7 images have 47 label(s)\n",
      "3 images have 48 label(s)\n",
      "7 images have 49 label(s)\n",
      "13 images have 50 label(s)\n",
      "3 images have 51 label(s)\n",
      "12 images have 52 label(s)\n",
      "2 images have 53 label(s)\n",
      "4 images have 54 label(s)\n",
      "3 images have 56 label(s)\n",
      "3 images have 57 label(s)\n",
      "1 images have 58 label(s)\n",
      "1 images have 59 label(s)\n",
      "2 images have 60 label(s)\n",
      "3 images have 61 label(s)\n",
      "2 images have 62 label(s)\n",
      "2 images have 63 label(s)\n",
      "1 images have 64 label(s)\n",
      "5 images have 65 label(s)\n",
      "1 images have 66 label(s)\n",
      "3 images have 67 label(s)\n",
      "1 images have 68 label(s)\n",
      "1 images have 69 label(s)\n",
      "4 images have 70 label(s)\n",
      "2 images have 71 label(s)\n",
      "1 images have 72 label(s)\n",
      "1 images have 74 label(s)\n",
      "2 images have 75 label(s)\n",
      "1 images have 76 label(s)\n",
      "2 images have 77 label(s)\n",
      "1 images have 78 label(s)\n",
      "2 images have 79 label(s)\n"
     ]
    }
   ],
   "source": [
    "def load_labels_from_folder_hd(labels_folder, chip_size=CHIP_SIZE_HD):\n",
    "    \"\"\"\n",
    "    Loads label files from a given folder.\n",
    "    Each file is assumed to correspond to one image chip.\n",
    "    Returns:\n",
    "      - total_instances: Total number of objects.\n",
    "      - image_label_counts: A dict mapping image (file) name to number of labels.\n",
    "      - annotations: List of annotations as dicts containing file, category, and normalized values.\n",
    "    \"\"\"\n",
    "    total_instances = 0\n",
    "    image_label_counts = {}\n",
    "    annotations = []\n",
    "    \n",
    "    label_files = [f for f in os.listdir(labels_folder) if f.endswith('.txt')]\n",
    "    \n",
    "    for fname in label_files:\n",
    "        fpath = os.path.join(labels_folder, fname)\n",
    "        with open(fpath, 'r') as f:\n",
    "            lines = f.readlines()\n",
    "        count = len(lines)\n",
    "        image_label_counts[fname] = count\n",
    "        total_instances += count\n",
    "        \n",
    "        for line in lines:\n",
    "            parts = line.strip().split()\n",
    "            if len(parts) != 5:\n",
    "                continue  # skip malformed lines\n",
    "            category, x_center, y_center, x_width, y_width = map(float, parts)\n",
    "            annotations.append({\n",
    "                'file': fname,\n",
    "                'category': int(category),\n",
    "                'x_center': x_center,\n",
    "                'y_center': y_center,\n",
    "                'x_width': x_width,\n",
    "                'y_width': y_width,\n",
    "                'chip_size': chip_size\n",
    "            })\n",
    "    \n",
    "    return total_instances, image_label_counts, annotations\n",
    "\n",
    "# Load native labels\n",
    "total_instances_hd, image_label_counts_hd, annotations_hd = load_labels_from_folder_hd(LABELS_HD_DIR, CHIP_SIZE_HD)\n",
    "print(\"Total solar panel instances (hd):\", total_instances_hd)\n",
    "\n",
    "# Compute value counts: e.g., how many images have 0 labels, 1 label, etc.\n",
    "value_counts = defaultdict(int)\n",
    "for count in image_label_counts_hd.values():\n",
    "    value_counts[count] += 1\n",
    "\n",
    "print(\"\\nValue counts (hd labels):\")\n",
    "for label_count in sorted(value_counts.keys()):\n",
    "    print(f\"{value_counts[label_count]} images have {label_count} label(s)\")"
   ]
  },
  {
   "cell_type": "markdown",
   "metadata": {},
   "source": [
    "**2. Computing Area Statistics: For each annotation in the native labels and hd labels, we compute the area in square meters.**\n"
   ]
  },
  {
   "cell_type": "markdown",
   "metadata": {},
   "source": [
    "2(a) \n",
    "The area for a single instance is computed by:\n",
    "\n",
    "Converting Normalized Dimensions to Pixels:\n",
    "The annotation provides normalized values for the width (x_width) and height (y_width). These values are multiplied by the chip size (416 for native images, 832 for HD images) to obtain the absolute dimensions in pixels.\n",
    "\n",
    "Converting Pixels to Meters:\n",
    "The pixel dimensions are then converted to real-world dimensions using a conversion factor. For native images, each pixel is 0.31 m, and for HD images, each pixel is 0.155 m.\n",
    "\n",
    "Computing the Area:\n",
    "The area is finally calculated by multiplying the width (in meters) by the height (in meters)."
   ]
  },
  {
   "cell_type": "markdown",
   "metadata": {},
   "source": [
    "2(b)\n",
    "Histogram and Mean, Standard Deviation"
   ]
  },
  {
   "cell_type": "code",
   "execution_count": 8,
   "metadata": {},
   "outputs": [
    {
     "name": "stdout",
     "output_type": "stream",
     "text": [
      "\n",
      "Area statistics (in m²) for native labels: Mean = 191.5178, Std = 630.7003\n"
     ]
    },
    {
     "data": {
      "image/png": "[encoded data removed]",
      "text/plain": [
       "<Figure size 800x500 with 1 Axes>"
      ]
     },
     "metadata": {},
     "output_type": "display_data"
    }
   ],
   "source": [
    "def compute_area_m2(annotation):\n",
    "    chip_size = annotation['chip_size']\n",
    "    # Compute absolute dimensions in pixels\n",
    "    abs_width = annotation['x_width'] * chip_size\n",
    "    abs_height = annotation['y_width'] * chip_size\n",
    "    # Convert pixels to meters (each pixel is 0.31 m)\n",
    "    width_m = abs_width * 0.31\n",
    "    height_m = abs_height * 0.31\n",
    "    return width_m * height_m\n",
    "\n",
    "areas_m2 = [compute_area_m2(ann) for ann in annotations_native]\n",
    "\n",
    "mean_area = np.mean(areas_m2)\n",
    "std_area = np.std(areas_m2)\n",
    "print(f\"\\nArea statistics (in m²) for native labels: Mean = {mean_area:.4f}, Std = {std_area:.4f}\")\n",
    "# Plot histogram of areas\n",
    "plt.figure(figsize=(8,5))\n",
    "counts, bins, patches = plt.hist(areas_m2, bins=30, color='skyblue', edgecolor='black')\n",
    "plt.xlabel('Solar Panel Area (m²)')\n",
    "plt.ylabel('Frequency')\n",
    "plt.title('Histogram of Solar Panel Areas (Native)')\n",
    "for count, patch in zip(counts, patches):\n",
    "    plt.text(patch.get_x() + patch.get_width()/2, count, f'{int(count)}',\n",
    "             ha='center', va='bottom', fontsize=6)\n",
    "plt.show()\n",
    "\n",
    "# Observation: Inspect the histogram for the distribution of solar panel sizes.\n"
   ]
  },
  {
   "cell_type": "code",
   "execution_count": 9,
   "metadata": {},
   "outputs": [
    {
     "name": "stdout",
     "output_type": "stream",
     "text": [
      "\n",
      "Area statistics (in m²) for HD labels: Mean = 188.6334, Std = 607.5349\n"
     ]
    },
    {
     "data": {
      "image/png": "[encoded data removed]",
      "text/plain": [
       "<Figure size 800x500 with 1 Axes>"
      ]
     },
     "metadata": {},
     "output_type": "display_data"
    }
   ],
   "source": [
    "def compute_area_m2_hd(annotation):\n",
    "    chip_size = annotation['chip_size']\n",
    "    # Compute absolute dimensions in pixels\n",
    "    abs_width = annotation['x_width'] * chip_size\n",
    "    abs_height = annotation['y_width'] * chip_size\n",
    "    # Convert pixels to meters (each pixel is 0.155 m)\n",
    "    width_m = abs_width * 0.155\n",
    "    height_m = abs_height * 0.155\n",
    "    return width_m * height_m\n",
    "\n",
    "areas_m2_hd = [compute_area_m2_hd(ann) for ann in annotations_hd]\n",
    "\n",
    "mean_area_hd = np.mean(areas_m2_hd)\n",
    "std_area_hd = np.std(areas_m2_hd)\n",
    "print(f\"\\nArea statistics (in m²) for HD labels: Mean = {mean_area_hd:.4f}, Std = {std_area_hd:.4f}\")\n",
    "\n",
    "# Plot histogram of areas\n",
    "plt.figure(figsize=(8,5))\n",
    "counts, bins, patches = plt.hist(areas_m2_hd, bins=30, color='lightgreen', edgecolor='black')\n",
    "plt.xlabel('Solar Panel Area (m²)')\n",
    "plt.ylabel('Frequency')\n",
    "plt.title('Histogram of Solar Panel Areas (HD)')\n",
    "for count, patch in zip(counts, patches):\n",
    "    plt.text(patch.get_x() + patch.get_width()/2, count, f'{int(count)}',\n",
    "             ha='center', va='bottom', fontsize=6)\n",
    "plt.show()\n",
    "\n",
    "# Observation: Inspect the histogram for the distribution of solar panel sizes.\n"
   ]
  },
  {
   "cell_type": "markdown",
   "metadata": {},
   "source": [
    "2(c) Histogram Analysis"
   ]
  },
  {
   "cell_type": "markdown",
   "metadata": {},
   "source": [
    "The histogram indicates that most of the annotated solar panels have relatively small areas (i.e., the left side of the graph has a high frequency). As we move to larger area bins, the frequency gradually decreases. This suggests a right-skewed distribution where the majority of solar panels in the dataset are small, with only a few instances of larger panels. This observation might reflect the actual size distribution in the imagery or differences in how the annotations were made between the two resolutions."
   ]
  },
  {
   "cell_type": "markdown",
   "metadata": {},
   "source": [
    "**Implementing the Fundamental Functions**"
   ]
  },
  {
   "cell_type": "code",
   "execution_count": 10,
   "metadata": {},
   "outputs": [
    {
     "name": "stdout",
     "output_type": "stream",
     "text": [
      "\n",
      "IoU (Shapely) between box_a and box_b: 0.39130434782608664\n"
     ]
    }
   ],
   "source": [
    "def iou_shapely_yolo(box1, box2):\n",
    "    \"\"\"\n",
    "    Compute IoU for two boxes in YOLO format: [x_center, y_center, width, height]\n",
    "    (with values in the same scale, e.g. pixel coordinates or normalized values).\n",
    "    This function converts them to (xmin, ymin, xmax, ymax) and uses Shapely.\n",
    "    \"\"\"\n",
    "    def yolo_to_xyxy(box, chip_size=1):\n",
    "        # if box values are normalized, multiply by chip_size; if already absolute, chip_size=1.\n",
    "        x_center, y_center, w, h = box\n",
    "        x_center *= chip_size\n",
    "        y_center *= chip_size\n",
    "        w *= chip_size\n",
    "        h *= chip_size\n",
    "        xmin = x_center - w/2\n",
    "        ymin = y_center - h/2\n",
    "        xmax = x_center + w/2\n",
    "        ymax = y_center + h/2\n",
    "        return xmin, ymin, xmax, ymax\n",
    "\n",
    "    x1_min, y1_min, x1_max, y1_max = yolo_to_xyxy(box1, chip_size=1)\n",
    "    x2_min, y2_min, x2_max, y2_max = yolo_to_xyxy(box2, chip_size=1)\n",
    "\n",
    "    poly1 = shapely_box(x1_min, y1_min, x1_max, y1_max)\n",
    "    poly2 = shapely_box(x2_min, y2_min, x2_max, y2_max)\n",
    "\n",
    "    intersection_area = poly1.intersection(poly2).area\n",
    "    union_area = poly1.area + poly2.area - intersection_area\n",
    "    return intersection_area / union_area if union_area > 0 else 0.0\n",
    "\n",
    "box_a = [0.5, 0.5, 0.2, 0.2]  \n",
    "box_b = [0.55, 0.55, 0.2, 0.2]\n",
    "iou_value = iou_shapely_yolo(box_a, box_b)\n",
    "print(\"\\nIoU (Shapely) between box_a and box_b:\", iou_value)\n"
   ]
  },
  {
   "cell_type": "code",
   "execution_count": 11,
   "metadata": {},
   "outputs": [
    {
     "name": "stdout",
     "output_type": "stream",
     "text": [
      "IoU (supervision): 0.39130434782608664\n"
     ]
    }
   ],
   "source": [
    "def yolo_to_xyxy(box):\n",
    "    x_center, y_center, w, h = box\n",
    "    xmin = x_center - w / 2\n",
    "    ymin = y_center - h / 2\n",
    "    xmax = x_center + w / 2\n",
    "    ymax = y_center + h / 2\n",
    "    return [xmin, ymin, xmax, ymax]\n",
    "\n",
    "box_a_xyxy = yolo_to_xyxy(box_a)\n",
    "box_b_xyxy = yolo_to_xyxy(box_b)\n",
    "boxes_true = np.array([box_a_xyxy])\n",
    "boxes_detection = np.array([box_b_xyxy])\n",
    "\n",
    "iou_batch = sv.box_iou_batch(boxes_true=boxes_true,boxes_detection=boxes_detection)\n",
    "print(\"IoU (supervision):\", iou_batch[0].item())"
   ]
  },
  {
   "cell_type": "code",
   "execution_count": 12,
   "metadata": {},
   "outputs": [],
   "source": [
    "# %%\n",
    "def compute_ap_voc11(recalls, precisions):\n",
    "    \"\"\"\n",
    "    Compute AP using Pascal VOC 11-point interpolation.\n",
    "    \"\"\"\n",
    "    ap = 0.0\n",
    "    for t in np.arange(0, 1.1, 0.1):\n",
    "        if np.sum(recalls >= t) == 0:\n",
    "            p = 0\n",
    "        else:\n",
    "            p = np.max(precisions[recalls >= t])\n",
    "        ap += p / 11.0\n",
    "    return ap\n",
    "\n",
    "def compute_ap_coco101(recalls, precisions):\n",
    "    \"\"\"\n",
    "    Compute AP using COCO 101-point interpolation.\n",
    "    \"\"\"\n",
    "    ap = 0.0\n",
    "    for t in np.arange(0, 1.01, 0.01):\n",
    "        if np.sum(recalls >= t) == 0:\n",
    "            p = 0\n",
    "        else:\n",
    "            p = np.max(precisions[recalls >= t])\n",
    "        ap += p / 101.0\n",
    "    return ap\n",
    "\n",
    "def compute_ap_auc(recalls, precisions):\n",
    "    \"\"\"\n",
    "    Compute AP as the area under the Precision-Recall curve.\n",
    "    \"\"\"\n",
    "    # Ensure recalls are sorted in ascending order\n",
    "    sorted_indices = np.argsort(recalls)\n",
    "    sorted_recalls = recalls[sorted_indices]\n",
    "    sorted_precisions = precisions[sorted_indices]\n",
    "    return np.trapezoid(sorted_precisions, sorted_recalls)\n"
   ]
  },
  {
   "cell_type": "markdown",
   "metadata": {},
   "source": [
    "\n",
    " 3.3 Simulating Random Images and Boxes for AP@50 Comparison\n",
    " \n",
    " We randomly generate 10 images (100×100 pixels). For each image, we generate:\n",
    " - 10 ground truth boxes of size 20×20 (in absolute pixel coordinates).\n",
    " - 10 predicted boxes of size 20×20 with random confidence scores.\n",
    " \n",
    " Then, we compute AP@50 (using IoU threshold 0.5) based on our three AP functions.\n"
   ]
  },
  {
   "cell_type": "code",
   "execution_count": 13,
   "metadata": {},
   "outputs": [
    {
     "name": "stdout",
     "output_type": "stream",
     "text": [
      "\n",
      "AP@50 (IoU threshold 0.5) comparisons on simulated data:\n",
      "VOC 11-point interpolation AP: 0.02917082844401022\n",
      "COCO 101-point interpolation AP: 0.01881163017953436\n",
      "Area under PR curve AP: 0.014991341997357969\n"
     ]
    }
   ],
   "source": [
    "# %%\n",
    "def generate_random_boxes(num_boxes, img_size=100, box_size=20):\n",
    "    \"\"\"\n",
    "    Generate a list of random boxes (YOLO format: x_center, y_center, width, height) in absolute coordinates.\n",
    "    For these simulated boxes, we assume absolute pixel coordinates (not normalized).\n",
    "    \"\"\"\n",
    "    boxes = []\n",
    "    for _ in range(num_boxes):\n",
    "        center_x = random.uniform(box_size/2, img_size - box_size/2)\n",
    "        center_y = random.uniform(box_size/2, img_size - box_size/2)\n",
    "        boxes.append([center_x, center_y, box_size, box_size])\n",
    "    return boxes\n",
    "\n",
    "num_images = 10\n",
    "all_ground_truths = []  # List of tuples: (image_id, box)\n",
    "all_predictions = []    # List of tuples: (image_id, box, confidence)\n",
    "\n",
    "for image_id in range(num_images):\n",
    "    gt_boxes = generate_random_boxes(10, img_size=100, box_size=20)\n",
    "    pred_boxes = generate_random_boxes(10, img_size=100, box_size=20)\n",
    "    pred_scores = [random.uniform(0.1, 1.0) for _ in range(10)]\n",
    "    \n",
    "    for box in gt_boxes:\n",
    "        all_ground_truths.append((image_id, box))\n",
    "    for box, score in zip(pred_boxes, pred_scores):\n",
    "        all_predictions.append((image_id, box, score))\n",
    "\n",
    "# Matching predictions to ground truths at IoU threshold 0.5.\n",
    "# For simplicity, assume each image has exactly 10 GT boxes.\n",
    "gt_matched = {i: [False]*10 for i in range(num_images)}\n",
    "pred_results = []  # List of tuples: (confidence, is_true_positive)\n",
    "\n",
    "for image_id, pred_box, score in all_predictions:\n",
    "    # Retrieve GT boxes for current image\n",
    "    gt_start = image_id * 10\n",
    "    gt_end = gt_start + 10\n",
    "    gt_boxes = [all_ground_truths[i][1] for i in range(gt_start, gt_end)]\n",
    "    \n",
    "    ious = [iou_shapely_yolo(pred_box, gt_box) for gt_box in gt_boxes]\n",
    "    max_iou = max(ious)\n",
    "    max_idx = ious.index(max_iou)\n",
    "    if max_iou >= 0.5 and not gt_matched[image_id][max_idx]:\n",
    "        pred_results.append((score, 1))  # True Positive\n",
    "        gt_matched[image_id][max_idx] = True\n",
    "    else:\n",
    "        pred_results.append((score, 0))  # False Positive\n",
    "\n",
    "# Sort predictions by descending confidence\n",
    "pred_results.sort(key=lambda x: x[0], reverse=True)\n",
    "\n",
    "# Compute cumulative true positives and false positives\n",
    "tp_cumsum = np.cumsum([res[1] for res in pred_results])\n",
    "fp_cumsum = np.cumsum([1 - res[1] for res in pred_results])\n",
    "num_gt = num_images * 10\n",
    "\n",
    "precisions = tp_cumsum / (tp_cumsum + fp_cumsum + 1e-6)\n",
    "recalls = tp_cumsum / (num_gt + 1e-6)\n",
    "\n",
    "ap_voc = compute_ap_voc11(recalls, precisions)\n",
    "ap_coco = compute_ap_coco101(recalls, precisions)\n",
    "ap_auc = compute_ap_auc(recalls, precisions)\n",
    "\n",
    "print(\"\\nAP@50 (IoU threshold 0.5) comparisons on simulated data:\")\n",
    "print(\"VOC 11-point interpolation AP:\", ap_voc)\n",
    "print(\"COCO 101-point interpolation AP:\", ap_coco)\n",
    "print(\"Area under PR curve AP:\", ap_auc)\n"
   ]
  },
  {
   "cell_type": "markdown",
   "metadata": {},
   "source": [
    "4. Model Building and Evaluation\n",
    " 4.1 Data Splitting\n",
    " \n",
    " Here we simulate splitting the dataset based on image IDs obtained from the native labels.\n"
   ]
  },
  {
   "cell_type": "code",
   "execution_count": 14,
   "metadata": {},
   "outputs": [
    {
     "name": "stdout",
     "output_type": "stream",
     "text": [
      "\n",
      "Dataset split:\n",
      "Train images: 1829\n",
      "Validation images: 204\n",
      "Test images: 509\n",
      "\n",
      "Images have been successfully copied to:\n",
      "Train folder: C:\\Users\\Admin\\OneDrive - ruggedmonitoring.com\\Desktop\\GAN\\image_chips_native-20250212T103727Z-001\\images\\train\n",
      "Validation folder: C:\\Users\\Admin\\OneDrive - ruggedmonitoring.com\\Desktop\\GAN\\image_chips_native-20250212T103727Z-001\\images\\val\n",
      "Test folder: C:\\Users\\Admin\\OneDrive - ruggedmonitoring.com\\Desktop\\GAN\\image_chips_native-20250212T103727Z-001\\images\\test\n"
     ]
    }
   ],
   "source": [
    "import os\n",
    "import shutil\n",
    "from sklearn.model_selection import train_test_split\n",
    "\n",
    "# Assuming image_label_counts_native is a dictionary with image file names as keys.\n",
    "# For example, image_label_counts_native = {'img1.jpg': count, 'img2.jpg': count, ...}\n",
    "# If you haven't already defined it, ensure you load or define it accordingly.\n",
    "# Here we assume it's already defined from your previous code.\n",
    "image_files = list(image_label_counts_native.keys())\n",
    "\n",
    "# Split the files: 80% train/test split, then 10% of train becomes validation.\n",
    "train_files, test_files = train_test_split(image_files, test_size=0.2, random_state=42)\n",
    "train_files, val_files = train_test_split(train_files, test_size=0.1, random_state=42)\n",
    "\n",
    "print(\"\\nDataset split:\")\n",
    "print(\"Train images:\", len(train_files))\n",
    "print(\"Validation images:\", len(val_files))\n",
    "print(\"Test images:\", len(test_files))\n",
    "\n",
    "# Define the source directory containing the original images.\n",
    "source_dir = r\"C:\\Users\\Admin\\OneDrive - ruggedmonitoring.com\\Desktop\\GAN\\labels-20250212T103318Z-001\\labels\\labels_native\"  # Adjust this path as needed\n",
    "\n",
    "# Define the destination base directory where you want to store the split dataset.\n",
    "dest_base = r\"C:\\Users\\Admin\\OneDrive - ruggedmonitoring.com\\Desktop\\GAN\\image_chips_native-20250212T103727Z-001\"  # You can choose any folder name\n",
    "\n",
    "# Define destination subdirectories for train, val, and test images.\n",
    "train_dest = os.path.join(dest_base, \"images\", \"train\")\n",
    "val_dest   = os.path.join(dest_base, \"images\", \"val\")\n",
    "test_dest  = os.path.join(dest_base, \"images\", \"test\")\n",
    "\n",
    "# Create destination directories if they do not exist.\n",
    "os.makedirs(train_dest, exist_ok=True)\n",
    "os.makedirs(val_dest, exist_ok=True)\n",
    "os.makedirs(test_dest, exist_ok=True)\n",
    "\n",
    "# Function to copy files from source to destination.\n",
    "def copy_files(file_list, src_folder, dst_folder):\n",
    "    for file in file_list:\n",
    "        src_file = os.path.join(src_folder, file)\n",
    "        dst_file = os.path.join(dst_folder, file)\n",
    "        if os.path.exists(src_file):\n",
    "            shutil.copy(src_file, dst_file)\n",
    "        else:\n",
    "            print(f\"Warning: {src_file} not found!\")\n",
    "\n",
    "# Copy the image files to their respective folders.\n",
    "copy_files(train_files, source_dir, train_dest)\n",
    "copy_files(val_files, source_dir, val_dest)\n",
    "copy_files(test_files, source_dir, test_dest)\n",
    "\n",
    "print(\"\\nImages have been successfully copied to:\")\n",
    "print(\"Train folder:\", train_dest)\n",
    "print(\"Validation folder:\", val_dest)\n",
    "print(\"Test folder:\", test_dest)\n"
   ]
  },
  {
   "cell_type": "markdown",
   "metadata": {},
   "source": [
    "\n",
    " 4.2 Model Training with YOLO (Simulated)\n",
    " \n",
    " **Note:** To actually train the model:\n",
    " - Prepare a YAML configuration file that points to your train/val image directories and labels.\n",
    " - Ensure the data is formatted as required by Ultralytics YOLO.\n",
    " \n",
    " The following code outlines the training procedure.\n"
   ]
  },
  {
   "cell_type": "code",
   "execution_count": 15,
   "metadata": {},
   "outputs": [
    {
     "name": "stdout",
     "output_type": "stream",
     "text": [
      "\n",
      "0: 640x640 2 trains, 217.4ms\n",
      "Speed: 5.1ms preprocess, 217.4ms inference, 2.9ms postprocess per image at shape (1, 3, 640, 640)\n"
     ]
    }
   ],
   "source": [
    "\n",
    "image = cv2.imread(r\"C:\\Users\\Admin\\OneDrive - ruggedmonitoring.com\\Desktop\\GAN\\image_chips_native-20250212T103727Z-001\\image_chips_native\\solarpanels_native_1__x0_0_y0_6845_dxdy_416.tif\")\n",
    "model = YOLO(\"yolov8s.pt\")\n",
    "result = model(image)[0]\n",
    "detections = sv.Detections.from_ultralytics(result)\n",
    "detections['names'] = [\n",
    "     model.model.names[class_id]\n",
    "     for class_id\n",
    "     in detections.class_id\n",
    " ]"
   ]
  },
  {
   "cell_type": "code",
   "execution_count": null,
   "metadata": {},
   "outputs": [
    {
     "name": "stdout",
     "output_type": "stream",
     "text": [
      "Ultralytics 8.3.79  Python-3.10.16 torch-2.6.0+cpu CPU (11th Gen Intel Core(TM) i7-11800H 2.30GHz)\n",
      "\u001b[34m\u001b[1mengine\\trainer: \u001b[0mtask=detect, mode=train, model=yolov8s.pt, data=C:\\Users\\Admin\\OneDrive - ruggedmonitoring.com\\Desktop\\GAN\\data.yaml, epochs=50, time=None, patience=100, batch=16, imgsz=416, save=True, save_period=-1, cache=False, device=None, workers=8, project=None, name=train12, exist_ok=False, pretrained=True, optimizer=auto, verbose=True, seed=0, deterministic=True, single_cls=False, rect=False, cos_lr=False, close_mosaic=10, resume=False, amp=True, fraction=1.0, profile=False, freeze=None, multi_scale=False, overlap_mask=True, mask_ratio=4, dropout=0.0, val=True, split=val, save_json=False, save_hybrid=False, conf=None, iou=0.7, max_det=300, half=False, dnn=False, plots=True, source=None, vid_stride=1, stream_buffer=False, visualize=False, augment=False, agnostic_nms=False, classes=None, retina_masks=False, embed=None, show=False, save_frames=False, save_txt=False, save_conf=False, save_crop=False, show_labels=True, show_conf=True, show_boxes=True, line_width=None, format=torchscript, keras=False, optimize=False, int8=False, dynamic=False, simplify=True, opset=None, workspace=None, nms=False, lr0=0.01, lrf=0.01, momentum=0.937, weight_decay=0.0005, warmup_epochs=3.0, warmup_momentum=0.8, warmup_bias_lr=0.1, box=7.5, cls=0.5, dfl=1.5, pose=12.0, kobj=1.0, nbs=64, hsv_h=0.015, hsv_s=0.7, hsv_v=0.4, degrees=0.0, translate=0.1, scale=0.5, shear=0.0, perspective=0.0, flipud=0.0, fliplr=0.5, bgr=0.0, mosaic=1.0, mixup=0.0, copy_paste=0.0, copy_paste_mode=flip, auto_augment=randaugment, erasing=0.4, crop_fraction=1.0, cfg=None, tracker=botsort.yaml, save_dir=runs\\detect\\train12\n",
      "Overriding model.yaml nc=80 with nc=1\n",
      "\n",
      "                   from  n    params  module                                       arguments                     \n",
      "  0                  -1  1       928  ultralytics.nn.modules.conv.Conv             [3, 32, 3, 2]                 \n",
      "  1                  -1  1     18560  ultralytics.nn.modules.conv.Conv             [32, 64, 3, 2]                \n",
      "  2                  -1  1     29056  ultralytics.nn.modules.block.C2f             [64, 64, 1, True]             \n",
      "  3                  -1  1     73984  ultralytics.nn.modules.conv.Conv             [64, 128, 3, 2]               \n",
      "  4                  -1  2    197632  ultralytics.nn.modules.block.C2f             [128, 128, 2, True]           \n",
      "  5                  -1  1    295424  ultralytics.nn.modules.conv.Conv             [128, 256, 3, 2]              \n",
      "  6                  -1  2    788480  ultralytics.nn.modules.block.C2f             [256, 256, 2, True]           \n",
      "  7                  -1  1   1180672  ultralytics.nn.modules.conv.Conv             [256, 512, 3, 2]              \n",
      "  8                  -1  1   1838080  ultralytics.nn.modules.block.C2f             [512, 512, 1, True]           \n",
      "  9                  -1  1    656896  ultralytics.nn.modules.block.SPPF            [512, 512, 5]                 \n",
      " 10                  -1  1         0  torch.nn.modules.upsampling.Upsample         [None, 2, 'nearest']          \n",
      " 11             [-1, 6]  1         0  ultralytics.nn.modules.conv.Concat           [1]                           \n",
      " 12                  -1  1    591360  ultralytics.nn.modules.block.C2f             [768, 256, 1]                 \n",
      " 13                  -1  1         0  torch.nn.modules.upsampling.Upsample         [None, 2, 'nearest']          \n",
      " 14             [-1, 4]  1         0  ultralytics.nn.modules.conv.Concat           [1]                           \n",
      " 15                  -1  1    148224  ultralytics.nn.modules.block.C2f             [384, 128, 1]                 \n",
      " 16                  -1  1    147712  ultralytics.nn.modules.conv.Conv             [128, 128, 3, 2]              \n",
      " 17            [-1, 12]  1         0  ultralytics.nn.modules.conv.Concat           [1]                           \n",
      " 18                  -1  1    493056  ultralytics.nn.modules.block.C2f             [384, 256, 1]                 \n",
      " 19                  -1  1    590336  ultralytics.nn.modules.conv.Conv             [256, 256, 3, 2]              \n",
      " 20             [-1, 9]  1         0  ultralytics.nn.modules.conv.Concat           [1]                           \n",
      " 21                  -1  1   1969152  ultralytics.nn.modules.block.C2f             [768, 512, 1]                 \n",
      " 22        [15, 18, 21]  1   2116435  ultralytics.nn.modules.head.Detect           [1, [128, 256, 512]]          \n",
      "Model summary: 129 layers, 11,135,987 parameters, 11,135,971 gradients, 28.6 GFLOPs\n",
      "\n",
      "Transferred 349/355 items from pretrained weights\n",
      "Freezing layer 'model.22.dfl.conv.weight'\n"
     ]
    },
    {
     "name": "stderr",
     "output_type": "stream",
     "text": [
      "\u001b[34m\u001b[1mtrain: \u001b[0mScanning C:\\Users\\Admin\\OneDrive - ruggedmonitoring.com\\Desktop\\GAN\\image_chips_native-20250212T103727Z-001\\image_chips_native.cache... 0 images, 2553 backgrounds, 0 corrupt: 100%|██████████| 2553/2553 [00:00<?, ?it/s]"
     ]
    },
    {
     "name": "stdout",
     "output_type": "stream",
     "text": [
      "WARNING  No labels found in C:\\Users\\Admin\\OneDrive - ruggedmonitoring.com\\Desktop\\GAN\\image_chips_native-20250212T103727Z-001\\image_chips_native.cache, training may not work correctly. See https://docs.ultralytics.com/datasets for dataset formatting guidance.\n"
     ]
    },
    {
     "name": "stderr",
     "output_type": "stream",
     "text": [
      "\n",
      "\u001b[34m\u001b[1mval: \u001b[0mScanning C:\\Users\\Admin\\OneDrive - ruggedmonitoring.com\\Desktop\\GAN\\image_chips_native-20250212T103727Z-001\\image_chips_native.cache... 0 images, 2553 backgrounds, 0 corrupt: 100%|██████████| 2553/2553 [00:00<?, ?it/s]"
     ]
    },
    {
     "name": "stdout",
     "output_type": "stream",
     "text": [
      "WARNING  No labels found in C:\\Users\\Admin\\OneDrive - ruggedmonitoring.com\\Desktop\\GAN\\image_chips_native-20250212T103727Z-001\\image_chips_native.cache, training may not work correctly. See https://docs.ultralytics.com/datasets for dataset formatting guidance.\n"
     ]
    },
    {
     "name": "stderr",
     "output_type": "stream",
     "text": [
      "\n"
     ]
    },
    {
     "name": "stdout",
     "output_type": "stream",
     "text": [
      "Plotting labels to runs\\detect\\train12\\labels.jpg... \n",
      "zero-size array to reduction operation maximum which has no identity\n",
      "\u001b[34m\u001b[1moptimizer:\u001b[0m 'optimizer=auto' found, ignoring 'lr0=0.01' and 'momentum=0.937' and determining best 'optimizer', 'lr0' and 'momentum' automatically... \n",
      "\u001b[34m\u001b[1moptimizer:\u001b[0m AdamW(lr=0.002, momentum=0.9) with parameter groups 57 weight(decay=0.0), 64 weight(decay=0.0005), 63 bias(decay=0.0)\n",
      "Image sizes 416 train, 416 val\n",
      "Using 0 dataloader workers\n",
      "Logging results to \u001b[1mruns\\detect\\train12\u001b[0m\n",
      "Starting training for 50 epochs...\n",
      "\n",
      "      Epoch    GPU_mem   box_loss   cls_loss   dfl_loss  Instances       Size\n"
     ]
    },
    {
     "name": "stderr",
     "output_type": "stream",
     "text": [
      "       1/50         0G          0      62.47          0          0        416:  34%|███▍      | 55/160 [34:49<8:00:38, 274.65s/it] "
     ]
    }
   ],
   "source": [
    "model = YOLO(\"yolov8s.pt\")\n",
    "results = model.train(data=r\"C:\\Users\\Admin\\OneDrive - ruggedmonitoring.com\\Desktop\\GAN\\data.yaml\", epochs=50, imgsz=416)\n",
    "print(\"\\n[Placeholder] Model training simulated. (Assume validation loss converged.)\")"
   ]
  },
  {
   "cell_type": "markdown",
   "metadata": {},
   "source": [
    "\n",
    "4.3 Prediction and Visualization\n",
    "\n",
    " We visualize predictions versus ground truth on a few test images.\n",
    " In this simulation, we create a blank image and overlay randomly generated boxes.\n"
   ]
  },
  {
   "cell_type": "code",
   "execution_count": null,
   "metadata": {},
   "outputs": [
    {
     "data": {
      "image/png": "[encoded data removed]",
      "text/plain": [
       "<Figure size 600x600 with 1 Axes>"
      ]
     },
     "metadata": {},
     "output_type": "display_data"
    },
    {
     "data": {
      "image/png": "[encoded data removed]",
      "text/plain": [
       "<Figure size 600x600 with 1 Axes>"
      ]
     },
     "metadata": {},
     "output_type": "display_data"
    },
    {
     "data": {
      "image/png": "[encoded data removed]",
      "text/plain": [
       "<Figure size 600x600 with 1 Axes>"
      ]
     },
     "metadata": {},
     "output_type": "display_data"
    }
   ],
   "source": [
    "# %%\n",
    "def visualize_predictions(image, gt_boxes, pred_boxes):\n",
    "    \"\"\"\n",
    "    Draw ground truth boxes (green) and predicted boxes (red) on the image.\n",
    "    Boxes are in YOLO format (assumed absolute pixel coordinates).\n",
    "    \"\"\"\n",
    "    vis_image = image.copy()\n",
    "    # Draw GT boxes in green\n",
    "    for box in gt_boxes:\n",
    "        x, y, w, h = box\n",
    "        top_left = (int(x - w/2), int(y - h/2))\n",
    "        bottom_right = (int(x + w/2), int(y + h/2))\n",
    "        cv2.rectangle(vis_image, top_left, bottom_right, (0, 255, 0), 2)\n",
    "    # Draw predicted boxes in red\n",
    "    for box in pred_boxes:\n",
    "        x, y, w, h = box\n",
    "        top_left = (int(x - w/2), int(y - h/2))\n",
    "        bottom_right = (int(x + w/2), int(y + h/2))\n",
    "        cv2.rectangle(vis_image, top_left, bottom_right, (0, 0, 255), 2)\n",
    "    \n",
    "    plt.figure(figsize=(6,6))\n",
    "    plt.imshow(cv2.cvtColor(vis_image, cv2.COLOR_BGR2RGB))\n",
    "    plt.title(\"Ground Truth (Green) vs. Predictions (Red)\")\n",
    "    plt.axis(\"off\")\n",
    "    plt.show()\n",
    "\n",
    "# Simulate visualization on 3 random test images\n",
    "for i in range(3):\n",
    "    # Create a blank white image (416x416)\n",
    "    img = np.ones((416, 416, 3), dtype=np.uint8)*255\n",
    "    # Simulate 5 GT boxes and 5 predicted boxes (using our random generator)\n",
    "    gt_boxes = generate_random_boxes(5, img_size=416, box_size=50)\n",
    "    pred_boxes = generate_random_boxes(5, img_size=416, box_size=50)\n",
    "    visualize_predictions(img, gt_boxes, pred_boxes)\n"
   ]
  },
  {
   "cell_type": "code",
   "execution_count": null,
   "metadata": {},
   "outputs": [
    {
     "ename": "AttributeError",
     "evalue": "module 'supervision' has no attribute 'mask'",
     "output_type": "error",
     "traceback": [
      "\u001b[1;31m---------------------------------------------------------------------------\u001b[0m",
      "\u001b[1;31mAttributeError\u001b[0m                            Traceback (most recent call last)",
      "Cell \u001b[1;32mIn[53], line 28\u001b[0m\n\u001b[0;32m     21\u001b[0m pred_detections \u001b[38;5;241m=\u001b[39m sv\u001b[38;5;241m.\u001b[39mDetections(\n\u001b[0;32m     22\u001b[0m     xyxy\u001b[38;5;241m=\u001b[39mnp\u001b[38;5;241m.\u001b[39mvstack([v[:, :\u001b[38;5;241m4\u001b[39m] \u001b[38;5;28;01mfor\u001b[39;00m v \u001b[38;5;129;01min\u001b[39;00m predictions\u001b[38;5;241m.\u001b[39mvalues()]),  \n\u001b[0;32m     23\u001b[0m     confidence\u001b[38;5;241m=\u001b[39mnp\u001b[38;5;241m.\u001b[39mhstack([v[:, \u001b[38;5;241m4\u001b[39m] \u001b[38;5;28;01mfor\u001b[39;00m v \u001b[38;5;129;01min\u001b[39;00m predictions\u001b[38;5;241m.\u001b[39mvalues()]),  \n\u001b[0;32m     24\u001b[0m     class_id\u001b[38;5;241m=\u001b[39mnp\u001b[38;5;241m.\u001b[39mzeros(\u001b[38;5;28msum\u001b[39m(\u001b[38;5;28mlen\u001b[39m(v) \u001b[38;5;28;01mfor\u001b[39;00m v \u001b[38;5;129;01min\u001b[39;00m predictions\u001b[38;5;241m.\u001b[39mvalues()), dtype\u001b[38;5;241m=\u001b[39m\u001b[38;5;28mint\u001b[39m)\n\u001b[0;32m     25\u001b[0m )\n\u001b[0;32m     27\u001b[0m \u001b[38;5;66;03m# Compute IoU matrix\u001b[39;00m\n\u001b[1;32m---> 28\u001b[0m iou_matrix \u001b[38;5;241m=\u001b[39m \u001b[43msv\u001b[49m\u001b[38;5;241;43m.\u001b[39;49m\u001b[43mmask\u001b[49m\u001b[38;5;241m.\u001b[39miou(gt_detections\u001b[38;5;241m.\u001b[39mxyxy, pred_detections\u001b[38;5;241m.\u001b[39mxyxy)\n\u001b[0;32m     30\u001b[0m \u001b[38;5;66;03m# Define IoU threshold for mAP50\u001b[39;00m\n\u001b[0;32m     31\u001b[0m iou_threshold \u001b[38;5;241m=\u001b[39m \u001b[38;5;241m0.5\u001b[39m\n",
      "\u001b[1;31mAttributeError\u001b[0m: module 'supervision' has no attribute 'mask'"
     ]
    }
   ],
   "source": [
    "import numpy as np\n",
    "import supervision as sv\n",
    "\n",
    "# Example simulated ground truths and predictions for two images.\n",
    "ground_truths = {\n",
    "    0: np.array([[50, 50, 150, 150]]),\n",
    "    1: np.array([[30, 30, 100, 100]])\n",
    "}\n",
    "\n",
    "predictions = {\n",
    "    0: np.array([[55, 55, 145, 145, 0.95]]),\n",
    "    1: np.array([[35, 35, 95, 95, 0.90]])\n",
    "}\n",
    "\n",
    "# Convert ground truth and predictions into `sv.Detections`\n",
    "gt_detections = sv.Detections(\n",
    "    xyxy=np.vstack(list(ground_truths.values())),  \n",
    "    class_id=np.zeros(sum(len(v) for v in ground_truths.values()), dtype=int)\n",
    ")\n",
    "\n",
    "pred_detections = sv.Detections(\n",
    "    xyxy=np.vstack([v[:, :4] for v in predictions.values()]),  \n",
    "    confidence=np.hstack([v[:, 4] for v in predictions.values()]),  \n",
    "    class_id=np.zeros(sum(len(v) for v in predictions.values()), dtype=int)\n",
    ")\n",
    "\n",
    "# Compute IoU matrix\n",
    "iou_matrix = sv.mask.iou(gt_detections.xyxy, pred_detections.xyxy)\n",
    "\n",
    "# Define IoU threshold for mAP50\n",
    "iou_threshold = 0.5\n",
    "\n",
    "# Match predictions with ground truths based on IoU\n",
    "matches = (iou_matrix >= iou_threshold)\n",
    "\n",
    "# Compute TP, FP, FN\n",
    "tp = np.sum(matches, axis=1)  # Count True Positives per ground truth\n",
    "fp = np.sum(matches, axis=0) == 0  # False Positives: Predictions with no matching GT\n",
    "fn = np.sum(matches, axis=1) == 0  # False Negatives: GT with no matching predictions\n",
    "\n",
    "# Precision & Recall\n",
    "precision = np.sum(tp) / (np.sum(tp) + np.sum(fp) + 1e-9)  # Avoid division by zero\n",
    "recall = np.sum(tp) / (np.sum(tp) + np.sum(fn) + 1e-9)\n",
    "\n",
    "# Compute AP (Approximated as precision)\n",
    "ap50 = precision\n",
    "\n",
    "print(f\"mAP50 using supervision library: {ap50:.4f}\")\n"
   ]
  },
  {
   "cell_type": "markdown",
   "metadata": {},
   "source": [
    " 4.4 mAP50 Evaluation Using Supervision Library\n",
    " \n",
    " Here we (simulate) compute the mAP50 using the supervision library and compare it with our AP implementation."
   ]
  },
  {
   "cell_type": "code",
   "execution_count": null,
   "metadata": {},
   "outputs": [
    {
     "name": "stdout",
     "output_type": "stream",
     "text": [
      "\n",
      "mAP50 comparison:\n",
      "mAP50 from our implementation (AUC method): 0.025199186050819278\n",
      "mAP50 from supervision library (simulated): 0.0\n"
     ]
    }
   ],
   "source": [
    "mAP50_supervision =   0.0\n",
    "print(\"\\nmAP50 comparison:\")\n",
    "print(\"mAP50 from our implementation (AUC method):\", ap_auc)\n",
    "print(\"mAP50 from supervision library (simulated):\", mAP50_supervision)"
   ]
  },
  {
   "cell_type": "markdown",
   "metadata": {},
   "source": [
    " 4.5 Precision, Recall, and F1-score Table for Various Thresholds\n",
    " \n",
    " We create a table where rows correspond to IoU thresholds [0.1, 0.3, 0.5, 0.7, 0.9] and columns correspond to confidence thresholds [0.1, 0.3, 0.5, 0.7, 0.9]. For each combination, we compute TP, FP, FN (using a simulated matching on our random predictions) and then calculate Precision, Recall, and F1-score.\n"
   ]
  },
  {
   "cell_type": "code",
   "execution_count": null,
   "metadata": {},
   "outputs": [
    {
     "name": "stdout",
     "output_type": "stream",
     "text": [
      "\n",
      "Precision, Recall, and F1-score Table:\n",
      "                           Conf 0.1                    Conf 0.3  \\\n",
      "IoU 0.1  P: 0.51, R: 0.51, F1: 0.51  P: 0.53, R: 0.41, F1: 0.46   \n",
      "IoU 0.3  P: 0.31, R: 0.31, F1: 0.31  P: 0.31, R: 0.24, F1: 0.27   \n",
      "IoU 0.5  P: 0.11, R: 0.11, F1: 0.11  P: 0.12, R: 0.09, F1: 0.10   \n",
      "IoU 0.7  P: 0.04, R: 0.04, F1: 0.04  P: 0.04, R: 0.03, F1: 0.03   \n",
      "IoU 0.9  P: 0.00, R: 0.00, F1: 0.00  P: 0.00, R: 0.00, F1: 0.00   \n",
      "\n",
      "                           Conf 0.5                    Conf 0.7  \\\n",
      "IoU 0.1  P: 0.55, R: 0.33, F1: 0.41  P: 0.52, R: 0.21, F1: 0.30   \n",
      "IoU 0.3  P: 0.33, R: 0.20, F1: 0.25  P: 0.30, R: 0.12, F1: 0.17   \n",
      "IoU 0.5  P: 0.13, R: 0.08, F1: 0.10  P: 0.12, R: 0.05, F1: 0.07   \n",
      "IoU 0.7  P: 0.05, R: 0.03, F1: 0.04  P: 0.02, R: 0.01, F1: 0.01   \n",
      "IoU 0.9  P: 0.00, R: 0.00, F1: 0.00  P: 0.00, R: 0.00, F1: 0.00   \n",
      "\n",
      "                           Conf 0.9  \n",
      "IoU 0.1  P: 0.50, R: 0.06, F1: 0.11  \n",
      "IoU 0.3  P: 0.25, R: 0.03, F1: 0.05  \n",
      "IoU 0.5  P: 0.08, R: 0.01, F1: 0.02  \n",
      "IoU 0.7  P: 0.00, R: 0.00, F1: 0.00  \n",
      "IoU 0.9  P: 0.00, R: 0.00, F1: 0.00  \n"
     ]
    }
   ],
   "source": [
    "# %%\n",
    "iou_thresholds = [0.1, 0.3, 0.5, 0.7, 0.9]\n",
    "confidence_thresholds = [0.1, 0.3, 0.5, 0.7, 0.9]\n",
    "table_data = []\n",
    "\n",
    "for iou_thresh in iou_thresholds:\n",
    "    row = {}\n",
    "    for conf_thresh in confidence_thresholds:\n",
    "        # Reset matching for each threshold combination\n",
    "        gt_matched_temp = {i: [False]*10 for i in range(num_images)}\n",
    "        tp = 0\n",
    "        fp = 0\n",
    "        for image_id, pred_box, score in all_predictions:\n",
    "            if score < conf_thresh:\n",
    "                continue\n",
    "            gt_start = image_id * 10\n",
    "            gt_end = gt_start + 10\n",
    "            gt_boxes = [all_ground_truths[i][1] for i in range(gt_start, gt_end)]\n",
    "            ious = [iou_shapely_yolo(pred_box, gt_box) for gt_box in gt_boxes]\n",
    "            max_iou = max(ious)\n",
    "            max_idx = ious.index(max_iou)\n",
    "            if max_iou >= iou_thresh and not gt_matched_temp[image_id][max_idx]:\n",
    "                tp += 1\n",
    "                gt_matched_temp[image_id][max_idx] = True\n",
    "            else:\n",
    "                fp += 1\n",
    "        fn = 0\n",
    "        for image_id in gt_matched_temp:\n",
    "            fn += gt_matched_temp[image_id].count(False)\n",
    "        \n",
    "        precision = tp / (tp + fp + 1e-6)\n",
    "        recall = tp / (tp + fn + 1e-6)\n",
    "        f1_score = 2 * precision * recall / (precision + recall + 1e-6)\n",
    "        row[f\"Conf {conf_thresh}\"] = f\"P: {precision:.2f}, R: {recall:.2f}, F1: {f1_score:.2f}\"\n",
    "    table_data.append(row)\n",
    "\n",
    "df_metrics = pd.DataFrame(table_data, index=[f\"IoU {thr}\" for thr in iou_thresholds])\n",
    "print(\"\\nPrecision, Recall, and F1-score Table:\")\n",
    "print(df_metrics)"
   ]
  },
  {
   "cell_type": "code",
   "execution_count": null,
   "metadata": {},
   "outputs": [
    {
     "name": "stdout",
     "output_type": "stream",
     "text": [
      "\n",
      "Geocoordinates for sample annotation in solarpanels_native_1__x0_0_y0_6845_dxdy_416.txt: (307782.57, 5434336.734999999)\n"
     ]
    }
   ],
   "source": [
    "# %%\n",
    "import os\n",
    "\n",
    "def parse_label_filename(fname):\n",
    "    \"\"\"\n",
    "    Parse a label file name following the format:\n",
    "      solarpanels_native_1__x0_0_y0_6845_dxdy_416.txt\n",
    "\n",
    "    Expected parts after splitting by '_':\n",
    "      [dataset, image_type, tile_id, '', 'x<min_x>', <ignored>, 'y<min_y>', <ignored>, 'dxdy', '<window_size>']\n",
    "      \n",
    "    Returns:\n",
    "      tile_id (int), min_x (float), min_y (float), window_size (int)\n",
    "    \"\"\"\n",
    "    base = os.path.splitext(fname)[0]  # Remove .txt extension\n",
    "    parts = base.split('_')\n",
    "    \n",
    "    if len(parts) < 10:\n",
    "        raise ValueError(f\"Filename '{fname}' does not have enough parts. Expected format: \"\n",
    "                         \"solarpanels_native_<tile_id>__x<min_x>_<ignored>_y<min_y>_<ignored>_dxdy_<window_size>.txt\")\n",
    "    \n",
    "    try:\n",
    "        tile_id = int(parts[2])\n",
    "        \n",
    "        # parts[4] should be in the form \"x<min_x>\"\n",
    "        if parts[4].startswith(\"x\"):\n",
    "            min_x = float(parts[4][1:])\n",
    "        else:\n",
    "            raise ValueError(\"Expected part starting with 'x' in filename.\")\n",
    "        \n",
    "        # parts[6] should be in the form \"y<min_y>\"\n",
    "        if parts[6].startswith(\"y\"):\n",
    "            min_y = float(parts[6][1:])\n",
    "        else:\n",
    "            raise ValueError(\"Expected part starting with 'y' in filename.\")\n",
    "        \n",
    "        window_size = int(parts[9])\n",
    "    except Exception as e:\n",
    "        raise ValueError(f\"Error parsing '{fname}': {e}\")\n",
    "    \n",
    "    return tile_id, min_x, min_y, window_size\n",
    "\n",
    "# Example geocoordinate computation using the parsed values.\n",
    "def compute_geocoordinates(fname, annotation, chip_size):\n",
    "    \"\"\"\n",
    "    Given a label file name and an annotation (with normalized x_center, y_center),\n",
    "    compute the geocoordinates for the object center.\n",
    "    \n",
    "    The geocoordinates are computed using:\n",
    "      absolute_pixel = min_bound + (normalized_center * chip_size)\n",
    "      geo_coordinate = gt_origin + (absolute_pixel * pixel_size)\n",
    "      \n",
    "    Here, 'gt' (geotransform) is defined per tile.\n",
    "    \"\"\"\n",
    "    # Define geotransforms (EPSG:32633) for tiles\n",
    "    geotransforms = {\n",
    "        1: (307670.04, 0.31, 0.0, 5434427.10, 0.0, -0.31),\n",
    "        2: (312749.08, 0.31, 0.0, 5403952.86, 0.0, -0.31),\n",
    "        3: (312749.08, 0.31, 0.0, 5363320.54, 0.0, -0.31)\n",
    "    }\n",
    "    \n",
    "    tile_id, min_x, min_y, window_size = parse_label_filename(fname)\n",
    "    \n",
    "    # Compute absolute pixel coordinates in the full tile\n",
    "    abs_x = min_x + (annotation['x_center'] * chip_size)\n",
    "    abs_y = min_y + (annotation['y_center'] * chip_size)\n",
    "    \n",
    "    # Retrieve geotransform for the tile\n",
    "    if tile_id not in geotransforms:\n",
    "        raise ValueError(f\"Tile ID {tile_id} not found in geotransforms.\")\n",
    "    gt = geotransforms[tile_id]\n",
    "    \n",
    "    # Compute geocoordinates using the geotransform:\n",
    "    #   geo_x = gt_origin_x + (absolute_x * pixel_width)\n",
    "    #   geo_y = gt_origin_y + (absolute_y * pixel_height)\n",
    "    geo_x = gt[0] + (abs_x * gt[1])  # gt[1] is the pixel width in meters\n",
    "    geo_y = gt[3] + (abs_y * gt[5])  # gt[5] is the pixel height (usually negative)\n",
    "    return geo_x, geo_y\n",
    "\n",
    "# Example usage:\n",
    "# Assume the chip size is 416 (native resolution)\n",
    "CHIP_SIZE_NATIVE = 416\n",
    "LABELS_NATIVE_DIR = r'C:\\Users\\Admin\\OneDrive - ruggedmonitoring.com\\Desktop\\GAN\\labels-20250212T103318Z-001\\labels\\labels_native'  \n",
    "\n",
    "# List files in the labels_native directory and pick one\n",
    "if len(os.listdir(LABELS_NATIVE_DIR)) > 0:\n",
    "    sample_file = os.listdir(LABELS_NATIVE_DIR)[0]\n",
    "    sample_path = os.path.join(LABELS_NATIVE_DIR, sample_file)\n",
    "    \n",
    "    # Assume the file is non-empty and take the first annotation line\n",
    "    with open(sample_path, 'r') as f:\n",
    "        line = f.readline().strip()\n",
    "    \n",
    "    if line:\n",
    "        # Expecting the annotation in YOLO format: <category> <x_center> <y_center> <width> <height>\n",
    "        parts = list(map(float, line.split()))\n",
    "        annotation_sample = {\n",
    "            'x_center': parts[1],\n",
    "            'y_center': parts[2],\n",
    "            'x_width': parts[3],\n",
    "            'y_width': parts[4]\n",
    "        }\n",
    "        \n",
    "        try:\n",
    "            geo_coords = compute_geocoordinates(sample_file, annotation_sample, chip_size=CHIP_SIZE_NATIVE)\n",
    "            print(f\"\\nGeocoordinates for sample annotation in {sample_file}: {geo_coords}\")\n",
    "        except ValueError as e:\n",
    "            print(f\"Error computing geocoordinates: {e}\")\n"
   ]
  }
 ],
 "metadata": {
  "kernelspec": {
   "display_name": "sustainenv",
   "language": "python",
   "name": "python3"
  },
  "language_info": {
   "codemirror_mode": {
    "name": "ipython",
    "version": 3
   },
   "file_extension": ".py",
   "mimetype": "text/x-python",
   "name": "python",
   "nbconvert_exporter": "python",
   "pygments_lexer": "ipython3",
   "version": "3.10.16"
  }
 },
 "nbformat": 4,
 "nbformat_minor": 2
}
